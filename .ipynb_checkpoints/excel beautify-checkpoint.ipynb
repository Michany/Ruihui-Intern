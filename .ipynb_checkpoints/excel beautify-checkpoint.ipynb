{
 "cells": [
  {
   "cell_type": "code",
   "execution_count": 1,
   "metadata": {},
   "outputs": [],
   "source": [
    "import openpyxl\n",
    "w=openpyxl.load_workbook(r\"E:\\RH\\500(2).xlsx output.xlsx\")\n",
    "table=w.worksheets[0]\n",
    "nrows=table.max_row\n",
    "ncols=table.max_column"
   ]
  },
  {
   "cell_type": "code",
   "execution_count": 10,
   "metadata": {},
   "outputs": [],
   "source": [
    "from openpyxl.styles import Font, Color, Border\n",
    "font=Font(name='dengxian',size=12)\n",
    "from openpyxl.formatting.rule import DataBarRule\n",
    "rule = DataBarRule(start_type='min', start_value=0, end_type='max', end_value=90,\n",
    "                    color=\"FFFF0000\", showValue=\"None\", minLength=None, maxLength=None)"
   ]
  },
  {
   "cell_type": "code",
   "execution_count": 34,
   "metadata": {
    "scrolled": true
   },
   "outputs": [
    {
     "data": {
      "text/plain": [
       "'收益统计'"
      ]
     },
     "execution_count": 34,
     "metadata": {},
     "output_type": "execute_result"
    }
   ],
   "source": [
    "table.title='收益统计'"
   ]
  },
  {
   "cell_type": "code",
   "execution_count": 14,
   "metadata": {},
   "outputs": [],
   "source": [
    "for row in range(1,nrows+1):\n",
    "    for j in range(len(table[row])):\n",
    "        table[row][j].font=font\n",
    "        table[row][j].border=Border(outline=False)\n",
    "        if table[row][j].value==table[1][j].value and row>1:\n",
    "            table[row][j].value=None\n",
    "table.conditional_formatting.add('C1:C'+str(row),rule)\n",
    "table.column_dimensions['C'].width = 14\n",
    "table.column_dimensions['B'].width = 10"
   ]
  },
  {
   "cell_type": "code",
   "execution_count": 15,
   "metadata": {},
   "outputs": [],
   "source": [
    "w.save('there.xlsx')"
   ]
  },
  {
   "cell_type": "code",
   "execution_count": null,
   "metadata": {},
   "outputs": [],
   "source": []
  }
 ],
 "metadata": {
  "kernelspec": {
   "display_name": "Python 3",
   "language": "python",
   "name": "python3"
  },
  "language_info": {
   "codemirror_mode": {
    "name": "ipython",
    "version": 3
   },
   "file_extension": ".py",
   "mimetype": "text/x-python",
   "name": "python",
   "nbconvert_exporter": "python",
   "pygments_lexer": "ipython3",
   "version": "3.6.3"
  },
  "varInspector": {
   "cols": {
    "lenName": 16,
    "lenType": 16,
    "lenVar": 40
   },
   "kernels_config": {
    "python": {
     "delete_cmd_postfix": "",
     "delete_cmd_prefix": "del ",
     "library": "var_list.py",
     "varRefreshCmd": "print(var_dic_list())"
    },
    "r": {
     "delete_cmd_postfix": ") ",
     "delete_cmd_prefix": "rm(",
     "library": "var_list.r",
     "varRefreshCmd": "cat(var_dic_list()) "
    }
   },
   "types_to_exclude": [
    "module",
    "function",
    "builtin_function_or_method",
    "instance",
    "_Feature"
   ],
   "window_display": false
  }
 },
 "nbformat": 4,
 "nbformat_minor": 2
}
