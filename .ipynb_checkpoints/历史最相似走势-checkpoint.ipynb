{
 "cells": [
  {
   "cell_type": "code",
   "execution_count": 1,
   "metadata": {},
   "outputs": [],
   "source": [
    "import numpy as np\n",
    "import pandas as pd\n",
    "import matplotlib.pyplot as plt\n",
    "import tushare as ts\n",
    "import time"
   ]
  },
  {
   "cell_type": "code",
   "execution_count": 2,
   "metadata": {},
   "outputs": [],
   "source": [
    "t=pd.DataFrame(columns=[\"date\",\"time\",\"open\",\"high\",\"low\",\"close\"])\n",
    "for year in range(1999,2016):\n",
    "    temp = pd.read_csv(r\"E:\\\\RH\\\\sh000001\\\\\"+str(year)+\"\\\\SH000001.csv\",header=None)\n",
    "    temp.drop(columns=[6,7],inplace=True)\n",
    "    temp.rename(columns={0:\"date\",1:\"time\",2:\"open\",3:\"high\",4:\"low\",5:\"close\"},inplace=True)\n",
    "    t=t.append(temp)"
   ]
  },
  {
   "cell_type": "code",
   "execution_count": 3,
   "metadata": {},
   "outputs": [],
   "source": [
    "t[' ']=' '\n",
    "t['new']=t['date']+t[' ']+t['time']\n",
    "t['new'].astype('datetime64',copy = False)\n",
    "\n",
    "t.drop(columns=[' '], inplace=True)\n",
    "\n",
    "t.set_index('new',inplace=True)"
   ]
  },
  {
   "cell_type": "code",
   "execution_count": 4,
   "metadata": {
    "collapsed": true
   },
   "outputs": [
    {
     "name": "stdout",
     "output_type": "stream",
     "text": [
      "<class 'pandas.core.frame.DataFrame'>\n",
      "Index: 190656 entries, 1999/07/26 09:35 to 2015/12/31 15:00\n",
      "Data columns (total 6 columns):\n",
      "date     190656 non-null object\n",
      "time     190656 non-null object\n",
      "open     190656 non-null float64\n",
      "high     190656 non-null float64\n",
      "low      190656 non-null float64\n",
      "close    190656 non-null float64\n",
      "dtypes: float64(4), object(2)\n",
      "memory usage: 10.2+ MB\n"
     ]
    }
   ],
   "source": [
    "t.info()"
   ]
  },
  {
   "cell_type": "code",
   "execution_count": 336,
   "metadata": {},
   "outputs": [],
   "source": [
    "now = ts.get_hist_data(code='sh', start=None, end=None, ktype='5',retry_count=3, pause=0.001)\n",
    "now.sort_values(by='date',ascending=True, inplace=True)"
   ]
  },
  {
   "cell_type": "code",
   "execution_count": 6,
   "metadata": {},
   "outputs": [],
   "source": [
    "len_t, len_now = len(t), len(now)"
   ]
  },
  {
   "cell_type": "code",
   "execution_count": 19,
   "metadata": {
    "collapsed": true
   },
   "outputs": [
    {
     "name": "stdout",
     "output_type": "stream",
     "text": [
      "finish: 0\n",
      "finish: 1000\n",
      "finish: 2000\n",
      "finish: 3000\n",
      "finish: 4000\n",
      "finish: 5000\n",
      "finish: 6000\n",
      "finish: 7000\n",
      "finish: 8000\n",
      "finish: 9000\n",
      "finish: 10000\n",
      "finish: 11000\n",
      "finish: 12000\n",
      "finish: 13000\n",
      "finish: 14000\n",
      "finish: 15000\n",
      "finish: 16000\n",
      "finish: 17000\n",
      "finish: 18000\n",
      "finish: 19000\n",
      "finish: 20000\n",
      "finish: 21000\n",
      "finish: 22000\n",
      "finish: 23000\n",
      "finish: 24000\n",
      "finish: 25000\n",
      "finish: 26000\n",
      "finish: 27000\n",
      "finish: 28000\n",
      "finish: 29000\n",
      "finish: 30000\n",
      "finish: 31000\n",
      "finish: 32000\n",
      "finish: 33000\n",
      "finish: 34000\n",
      "finish: 35000\n",
      "finish: 36000\n",
      "finish: 37000\n",
      "finish: 38000\n",
      "finish: 39000\n",
      "finish: 40000\n",
      "finish: 41000\n",
      "finish: 42000\n",
      "finish: 43000\n",
      "finish: 44000\n",
      "finish: 45000\n",
      "finish: 46000\n",
      "finish: 47000\n",
      "finish: 48000\n",
      "finish: 49000\n",
      "finish: 50000\n",
      "finish: 51000\n",
      "finish: 52000\n",
      "finish: 53000\n",
      "finish: 54000\n",
      "finish: 55000\n",
      "finish: 56000\n",
      "finish: 57000\n",
      "finish: 58000\n",
      "finish: 59000\n",
      "finish: 60000\n",
      "finish: 61000\n",
      "finish: 62000\n",
      "finish: 63000\n",
      "finish: 64000\n",
      "finish: 65000\n",
      "finish: 66000\n",
      "finish: 67000\n",
      "finish: 68000\n",
      "finish: 69000\n",
      "finish: 70000\n",
      "finish: 71000\n",
      "finish: 72000\n",
      "finish: 73000\n",
      "finish: 74000\n",
      "finish: 75000\n",
      "finish: 76000\n",
      "finish: 77000\n",
      "finish: 78000\n",
      "finish: 79000\n",
      "finish: 80000\n",
      "finish: 81000\n",
      "finish: 82000\n",
      "finish: 83000\n",
      "finish: 84000\n",
      "finish: 85000\n",
      "finish: 86000\n",
      "finish: 87000\n",
      "finish: 88000\n",
      "finish: 89000\n",
      "finish: 90000\n",
      "finish: 91000\n",
      "finish: 92000\n",
      "finish: 93000\n",
      "finish: 94000\n",
      "finish: 95000\n",
      "finish: 96000\n",
      "finish: 97000\n",
      "finish: 98000\n",
      "finish: 99000\n",
      "finish: 100000\n",
      "finish: 101000\n",
      "finish: 102000\n",
      "finish: 103000\n",
      "finish: 104000\n",
      "finish: 105000\n",
      "finish: 106000\n",
      "finish: 107000\n",
      "finish: 108000\n",
      "finish: 109000\n",
      "finish: 110000\n",
      "finish: 111000\n",
      "finish: 112000\n",
      "finish: 113000\n",
      "finish: 114000\n",
      "finish: 115000\n",
      "finish: 116000\n",
      "finish: 117000\n",
      "finish: 118000\n",
      "finish: 119000\n",
      "finish: 120000\n",
      "finish: 121000\n",
      "finish: 122000\n",
      "finish: 123000\n",
      "finish: 124000\n",
      "finish: 125000\n",
      "finish: 126000\n",
      "finish: 127000\n",
      "finish: 128000\n",
      "finish: 129000\n",
      "finish: 130000\n",
      "finish: 131000\n",
      "finish: 132000\n",
      "finish: 133000\n",
      "finish: 134000\n",
      "finish: 135000\n",
      "finish: 136000\n",
      "finish: 137000\n",
      "finish: 138000\n",
      "finish: 139000\n",
      "finish: 140000\n",
      "finish: 141000\n",
      "finish: 142000\n",
      "finish: 143000\n",
      "finish: 144000\n",
      "finish: 145000\n",
      "finish: 146000\n",
      "finish: 147000\n",
      "finish: 148000\n",
      "finish: 149000\n",
      "finish: 150000\n",
      "finish: 151000\n",
      "finish: 152000\n",
      "finish: 153000\n",
      "finish: 154000\n",
      "finish: 155000\n",
      "finish: 156000\n",
      "finish: 157000\n",
      "finish: 158000\n",
      "finish: 159000\n",
      "finish: 160000\n",
      "finish: 161000\n",
      "finish: 162000\n",
      "finish: 163000\n",
      "finish: 164000\n",
      "finish: 165000\n",
      "finish: 166000\n",
      "finish: 167000\n",
      "finish: 168000\n",
      "finish: 169000\n",
      "finish: 170000\n",
      "finish: 171000\n",
      "finish: 172000\n",
      "finish: 173000\n",
      "finish: 174000\n",
      "finish: 175000\n",
      "finish: 176000\n",
      "finish: 177000\n",
      "finish: 178000\n",
      "finish: 179000\n",
      "finish: 180000\n",
      "finish: 181000\n",
      "finish: 182000\n",
      "finish: 183000\n",
      "finish: 184000\n",
      "finish: 185000\n",
      "finish: 186000\n",
      "finish: 187000\n",
      "finish: 188000\n",
      "finish: 189000\n",
      "finish: 190000\n",
      "Duration: 569.5902371406555\n"
     ]
    }
   ],
   "source": [
    "len_t, len_now = len(t), len(now)\n",
    "max_corr, max_index = 0, -1\n",
    "corr = list()\n",
    "for i in range(0, len_t-len_now):\n",
    "    temp_corr = np.corrcoef(x=t[i:i+len_now]['close'], y=now['close'])\n",
    "    corr.append(temp_corr[1])\n",
    "    if i%1000==0:print(\"finish:\",i)\n",
    "t1=time.time()\n",
    "print(\"Duration: {}\".format(t1-t0))"
   ]
  },
  {
   "cell_type": "code",
   "execution_count": 21,
   "metadata": {
    "scrolled": true
   },
   "outputs": [],
   "source": [
    "t=t.close"
   ]
  },
  {
   "cell_type": "code",
   "execution_count": 7,
   "metadata": {},
   "outputs": [],
   "source": [
    "i=8148"
   ]
  },
  {
   "cell_type": "code",
   "execution_count": 20,
   "metadata": {},
   "outputs": [],
   "source": [
    "corr = pd.DataFrame(corr)"
   ]
  },
  {
   "cell_type": "code",
   "execution_count": 28,
   "metadata": {},
   "outputs": [],
   "source": [
    "corr.drop(columns=1, inplace=True)"
   ]
  },
  {
   "cell_type": "code",
   "execution_count": 195,
   "metadata": {},
   "outputs": [],
   "source": [
    "ans = corr[corr[0]>0.75]"
   ]
  },
  {
   "cell_type": "code",
   "execution_count": 196,
   "metadata": {
    "collapsed": true
   },
   "outputs": [
    {
     "data": {
      "text/html": [
       "<div>\n",
       "<style scoped>\n",
       "    .dataframe tbody tr th:only-of-type {\n",
       "        vertical-align: middle;\n",
       "    }\n",
       "\n",
       "    .dataframe tbody tr th {\n",
       "        vertical-align: top;\n",
       "    }\n",
       "\n",
       "    .dataframe thead th {\n",
       "        text-align: right;\n",
       "    }\n",
       "</style>\n",
       "<table border=\"1\" class=\"dataframe\">\n",
       "  <thead>\n",
       "    <tr style=\"text-align: right;\">\n",
       "      <th></th>\n",
       "      <th>0</th>\n",
       "    </tr>\n",
       "  </thead>\n",
       "  <tbody>\n",
       "    <tr>\n",
       "      <th>3482</th>\n",
       "      <td>0.750692</td>\n",
       "    </tr>\n",
       "    <tr>\n",
       "      <th>3483</th>\n",
       "      <td>0.752233</td>\n",
       "    </tr>\n",
       "    <tr>\n",
       "      <th>3484</th>\n",
       "      <td>0.750910</td>\n",
       "    </tr>\n",
       "    <tr>\n",
       "      <th>8144</th>\n",
       "      <td>0.753438</td>\n",
       "    </tr>\n",
       "    <tr>\n",
       "      <th>8145</th>\n",
       "      <td>0.765876</td>\n",
       "    </tr>\n",
       "    <tr>\n",
       "      <th>8146</th>\n",
       "      <td>0.775466</td>\n",
       "    </tr>\n",
       "    <tr>\n",
       "      <th>8147</th>\n",
       "      <td>0.788855</td>\n",
       "    </tr>\n",
       "    <tr>\n",
       "      <th>8148</th>\n",
       "      <td>0.800439</td>\n",
       "    </tr>\n",
       "    <tr>\n",
       "      <th>8149</th>\n",
       "      <td>0.809329</td>\n",
       "    </tr>\n",
       "    <tr>\n",
       "      <th>8150</th>\n",
       "      <td>0.815236</td>\n",
       "    </tr>\n",
       "    <tr>\n",
       "      <th>8151</th>\n",
       "      <td>0.820974</td>\n",
       "    </tr>\n",
       "    <tr>\n",
       "      <th>8152</th>\n",
       "      <td>0.826910</td>\n",
       "    </tr>\n",
       "    <tr>\n",
       "      <th>8153</th>\n",
       "      <td>0.830761</td>\n",
       "    </tr>\n",
       "    <tr>\n",
       "      <th>8154</th>\n",
       "      <td>0.832986</td>\n",
       "    </tr>\n",
       "    <tr>\n",
       "      <th>8155</th>\n",
       "      <td>0.832216</td>\n",
       "    </tr>\n",
       "    <tr>\n",
       "      <th>8156</th>\n",
       "      <td>0.829596</td>\n",
       "    </tr>\n",
       "    <tr>\n",
       "      <th>8157</th>\n",
       "      <td>0.823001</td>\n",
       "    </tr>\n",
       "    <tr>\n",
       "      <th>8158</th>\n",
       "      <td>0.815270</td>\n",
       "    </tr>\n",
       "    <tr>\n",
       "      <th>8159</th>\n",
       "      <td>0.810888</td>\n",
       "    </tr>\n",
       "    <tr>\n",
       "      <th>8160</th>\n",
       "      <td>0.805658</td>\n",
       "    </tr>\n",
       "    <tr>\n",
       "      <th>8161</th>\n",
       "      <td>0.799097</td>\n",
       "    </tr>\n",
       "    <tr>\n",
       "      <th>8162</th>\n",
       "      <td>0.792727</td>\n",
       "    </tr>\n",
       "    <tr>\n",
       "      <th>8163</th>\n",
       "      <td>0.783933</td>\n",
       "    </tr>\n",
       "    <tr>\n",
       "      <th>8164</th>\n",
       "      <td>0.774280</td>\n",
       "    </tr>\n",
       "    <tr>\n",
       "      <th>8165</th>\n",
       "      <td>0.764642</td>\n",
       "    </tr>\n",
       "    <tr>\n",
       "      <th>8166</th>\n",
       "      <td>0.754544</td>\n",
       "    </tr>\n",
       "    <tr>\n",
       "      <th>16038</th>\n",
       "      <td>0.760426</td>\n",
       "    </tr>\n",
       "    <tr>\n",
       "      <th>16039</th>\n",
       "      <td>0.776341</td>\n",
       "    </tr>\n",
       "    <tr>\n",
       "      <th>16040</th>\n",
       "      <td>0.791811</td>\n",
       "    </tr>\n",
       "    <tr>\n",
       "      <th>16041</th>\n",
       "      <td>0.807642</td>\n",
       "    </tr>\n",
       "    <tr>\n",
       "      <th>...</th>\n",
       "      <td>...</td>\n",
       "    </tr>\n",
       "    <tr>\n",
       "      <th>110933</th>\n",
       "      <td>0.762189</td>\n",
       "    </tr>\n",
       "    <tr>\n",
       "      <th>110934</th>\n",
       "      <td>0.776526</td>\n",
       "    </tr>\n",
       "    <tr>\n",
       "      <th>110935</th>\n",
       "      <td>0.788451</td>\n",
       "    </tr>\n",
       "    <tr>\n",
       "      <th>110936</th>\n",
       "      <td>0.798345</td>\n",
       "    </tr>\n",
       "    <tr>\n",
       "      <th>110937</th>\n",
       "      <td>0.806696</td>\n",
       "    </tr>\n",
       "    <tr>\n",
       "      <th>110938</th>\n",
       "      <td>0.814386</td>\n",
       "    </tr>\n",
       "    <tr>\n",
       "      <th>110939</th>\n",
       "      <td>0.819544</td>\n",
       "    </tr>\n",
       "    <tr>\n",
       "      <th>110940</th>\n",
       "      <td>0.823366</td>\n",
       "    </tr>\n",
       "    <tr>\n",
       "      <th>110941</th>\n",
       "      <td>0.823572</td>\n",
       "    </tr>\n",
       "    <tr>\n",
       "      <th>110942</th>\n",
       "      <td>0.823686</td>\n",
       "    </tr>\n",
       "    <tr>\n",
       "      <th>110943</th>\n",
       "      <td>0.822024</td>\n",
       "    </tr>\n",
       "    <tr>\n",
       "      <th>110944</th>\n",
       "      <td>0.817549</td>\n",
       "    </tr>\n",
       "    <tr>\n",
       "      <th>110945</th>\n",
       "      <td>0.813642</td>\n",
       "    </tr>\n",
       "    <tr>\n",
       "      <th>110946</th>\n",
       "      <td>0.808595</td>\n",
       "    </tr>\n",
       "    <tr>\n",
       "      <th>110947</th>\n",
       "      <td>0.802900</td>\n",
       "    </tr>\n",
       "    <tr>\n",
       "      <th>110948</th>\n",
       "      <td>0.796803</td>\n",
       "    </tr>\n",
       "    <tr>\n",
       "      <th>110949</th>\n",
       "      <td>0.786918</td>\n",
       "    </tr>\n",
       "    <tr>\n",
       "      <th>110950</th>\n",
       "      <td>0.775690</td>\n",
       "    </tr>\n",
       "    <tr>\n",
       "      <th>110951</th>\n",
       "      <td>0.764658</td>\n",
       "    </tr>\n",
       "    <tr>\n",
       "      <th>110952</th>\n",
       "      <td>0.750418</td>\n",
       "    </tr>\n",
       "    <tr>\n",
       "      <th>170258</th>\n",
       "      <td>0.754361</td>\n",
       "    </tr>\n",
       "    <tr>\n",
       "      <th>170259</th>\n",
       "      <td>0.758815</td>\n",
       "    </tr>\n",
       "    <tr>\n",
       "      <th>170260</th>\n",
       "      <td>0.762795</td>\n",
       "    </tr>\n",
       "    <tr>\n",
       "      <th>170261</th>\n",
       "      <td>0.767454</td>\n",
       "    </tr>\n",
       "    <tr>\n",
       "      <th>170262</th>\n",
       "      <td>0.772665</td>\n",
       "    </tr>\n",
       "    <tr>\n",
       "      <th>170263</th>\n",
       "      <td>0.775972</td>\n",
       "    </tr>\n",
       "    <tr>\n",
       "      <th>170264</th>\n",
       "      <td>0.774919</td>\n",
       "    </tr>\n",
       "    <tr>\n",
       "      <th>170265</th>\n",
       "      <td>0.772252</td>\n",
       "    </tr>\n",
       "    <tr>\n",
       "      <th>170266</th>\n",
       "      <td>0.767728</td>\n",
       "    </tr>\n",
       "    <tr>\n",
       "      <th>170267</th>\n",
       "      <td>0.759315</td>\n",
       "    </tr>\n",
       "  </tbody>\n",
       "</table>\n",
       "<p>153 rows × 1 columns</p>\n",
       "</div>"
      ],
      "text/plain": [
       "               0\n",
       "3482    0.750692\n",
       "3483    0.752233\n",
       "3484    0.750910\n",
       "8144    0.753438\n",
       "8145    0.765876\n",
       "8146    0.775466\n",
       "8147    0.788855\n",
       "8148    0.800439\n",
       "8149    0.809329\n",
       "8150    0.815236\n",
       "8151    0.820974\n",
       "8152    0.826910\n",
       "8153    0.830761\n",
       "8154    0.832986\n",
       "8155    0.832216\n",
       "8156    0.829596\n",
       "8157    0.823001\n",
       "8158    0.815270\n",
       "8159    0.810888\n",
       "8160    0.805658\n",
       "8161    0.799097\n",
       "8162    0.792727\n",
       "8163    0.783933\n",
       "8164    0.774280\n",
       "8165    0.764642\n",
       "8166    0.754544\n",
       "16038   0.760426\n",
       "16039   0.776341\n",
       "16040   0.791811\n",
       "16041   0.807642\n",
       "...          ...\n",
       "110933  0.762189\n",
       "110934  0.776526\n",
       "110935  0.788451\n",
       "110936  0.798345\n",
       "110937  0.806696\n",
       "110938  0.814386\n",
       "110939  0.819544\n",
       "110940  0.823366\n",
       "110941  0.823572\n",
       "110942  0.823686\n",
       "110943  0.822024\n",
       "110944  0.817549\n",
       "110945  0.813642\n",
       "110946  0.808595\n",
       "110947  0.802900\n",
       "110948  0.796803\n",
       "110949  0.786918\n",
       "110950  0.775690\n",
       "110951  0.764658\n",
       "110952  0.750418\n",
       "170258  0.754361\n",
       "170259  0.758815\n",
       "170260  0.762795\n",
       "170261  0.767454\n",
       "170262  0.772665\n",
       "170263  0.775972\n",
       "170264  0.774919\n",
       "170265  0.772252\n",
       "170266  0.767728\n",
       "170267  0.759315\n",
       "\n",
       "[153 rows x 1 columns]"
      ]
     },
     "execution_count": 196,
     "metadata": {},
     "output_type": "execute_result"
    }
   ],
   "source": [
    "ans"
   ]
  },
  {
   "cell_type": "code",
   "execution_count": 45,
   "metadata": {
    "scrolled": false
   },
   "outputs": [
    {
     "data": {
      "text/plain": [
       "<matplotlib.axes._subplots.AxesSubplot at 0x2519d961c18>"
      ]
     },
     "execution_count": 45,
     "metadata": {},
     "output_type": "execute_result"
    },
    {
     "data": {
      "image/png": "[encoded data removed]",
      "text/plain": [
       "<matplotlib.figure.Figure at 0x2519d9b2940>"
      ]
     },
     "metadata": {},
     "output_type": "display_data"
    }
   ],
   "source": [
    "i=16045\n",
    "t[i:i+len_now].plot()"
   ]
  },
  {
   "cell_type": "markdown",
   "metadata": {},
   "source": [
    "#### 将相关系数大于阈值的序列分组，如果索引是连续的 则视为一组"
   ]
  },
  {
   "cell_type": "code",
   "execution_count": 215,
   "metadata": {},
   "outputs": [],
   "source": [
    "group_list=[]\n",
    "group=0; last_i=0\n",
    "\n",
    "for i in ans.index:\n",
    "    if i-last_i != 1: \n",
    "        group += 1\n",
    "        last_i = i\n",
    "    else:\n",
    "        last_i += 1\n",
    "    group_list.append(group)\n",
    "ans = pd.DataFrame({0:list(ans[0]),1:group_list}, index=ans.index)"
   ]
  },
  {
   "cell_type": "markdown",
   "metadata": {},
   "source": [
    "## 计算概率"
   ]
  },
  {
   "cell_type": "code",
   "execution_count": 223,
   "metadata": {},
   "outputs": [],
   "source": [
    "TARGET_DAYS = [5, 20]\n",
    "FREQUENCY = 5\n",
    "TARGET_WINDOWS = [int(i*4*60/FREQUENCY) for i in TARGET_DAYS]"
   ]
  },
  {
   "cell_type": "code",
   "execution_count": 328,
   "metadata": {},
   "outputs": [
    {
     "data": {
      "text/plain": [
       "[240, 960]"
      ]
     },
     "execution_count": 328,
     "metadata": {},
     "output_type": "execute_result"
    }
   ],
   "source": [
    "TARGET_WINDOWS"
   ]
  },
  {
   "cell_type": "code",
   "execution_count": 331,
   "metadata": {},
   "outputs": [
    {
     "data": {
      "text/plain": [
       "(0.4166666666666667, 0.5833333333333333)"
      ]
     },
     "execution_count": 331,
     "metadata": {},
     "output_type": "execute_result"
    }
   ],
   "source": [
    "def cal_prob(d:int):\n",
    "    forward_length = TARGET_WINDOWS[d]\n",
    "    index_max_corr = [\n",
    "        int(ans_groups.get_group(j + 1).idxmax()[0]) for j in range(ans_groups.size().size)\n",
    "    ]\n",
    "    prob_up = sum(t[i] < t[i + len_now + forward_length]\n",
    "                  for i in index_max_corr) / ans_groups.size().size\n",
    "    prob_down = 1 - prob_up\n",
    "    return prob_up, prob_down\n",
    "cal_prob(1)"
   ]
  },
  {
   "cell_type": "code",
   "execution_count": 173,
   "metadata": {},
   "outputs": [],
   "source": [
    "if prob_up>prob_down:\n",
    "    for i in index_max_corr:\n",
    "        if t[i]<t[i+len_now+forward_length]:\n",
    "            ans.loc[i, 'more_likely'] = 1\n",
    "else:\n",
    "    for i in index_max_corr:\n",
    "        if t[i]>t[i+len_now+forward_length]:\n",
    "            ans.loc[i, 'more_likely'] = 1\n",
    "\n",
    "best_history_index = ans.where(ans.more_likely!=0).idxmax()[0]"
   ]
  },
  {
   "cell_type": "markdown",
   "metadata": {},
   "source": [
    "### 调整坐标及缩放"
   ]
  },
  {
   "cell_type": "code",
   "execution_count": 133,
   "metadata": {},
   "outputs": [],
   "source": [
    "i=best_history_index\n",
    "\n",
    "future=dict()\n",
    "future['upper']=t[i:i+len_now+forward_length].max()\n",
    "future['lower']=t[i:i+len_now+forward_length].min()\n",
    "future['mid']=(future['upper']+future['lower'])/2\n",
    "future['width']=future['upper']-future['lower']\n",
    "future['average']=t[i:i+len_now+forward_length].mean()\n",
    "future['upward']=future['upper']-future['average']\n",
    "future['downward']=future['average']-future['lower']\n",
    "\n",
    "curt=dict()\n",
    "curt['upper']=now['close'].max()\n",
    "curt['lower']=now['close'].min()\n",
    "curt['average']=now['close'].mean()\n",
    "curt['width']=curt['upper']-curt['lower']\n",
    "curt['mid']=(curt['upper']+curt['lower'])/2\n",
    "\n",
    "a = (curt['lower']-curt['width']*future['downward']/future['width']*3)*future['average']/curt['average']\n",
    "b = (curt['upper']+curt['width']*future['upward']/future['width']*3)*future['average']/curt['average']"
   ]
  },
  {
   "cell_type": "code",
   "execution_count": 169,
   "metadata": {},
   "outputs": [
    {
     "data": {
      "text/plain": [
       "(-65.45, 1374.45, 1896.8752577080184, 2158.2013310815028)"
      ]
     },
     "execution_count": 169,
     "metadata": {},
     "output_type": "execute_result"
    },
    {
     "data": {
      "image/png": "[encoded data removed]",
      "text/plain": [
       "<matplotlib.figure.Figure at 0x251a0dea550>"
      ]
     },
     "metadata": {},
     "output_type": "display_data"
    }
   ],
   "source": [
    "fig = plt.figure()\n",
    "fig.set_size_inches(13, 9)\n",
    "\n",
    "ax = fig.add_subplot(111)\n",
    "ax.plot(\n",
    "    range(len_now), now['close'], linewidth=3, label='current', c='#007ac6')\n",
    "plt.ylim((curt['mid'] - future['downward'] * 3, curt['mid'] + future['upward'] * 3))\n",
    "plt.grid(color='#007ac6', alpha=0.7, axis='y',linestyle = 'dashed')\n",
    "ax.spines['top'].set_visible(False)\n",
    "ax.spines['bottom'].set_visible(False)\n",
    "ax.spines['left'].set_visible(False)\n",
    "ax.spines['right'].set_visible(False)\n",
    "\n",
    "ax2 = ax.twinx()\n",
    "history = t[best_history_index:best_history_index + len_now + forward_length]\n",
    "ax2.plot(\n",
    "    range(len_now + forward_length),\n",
    "    history,\n",
    "    linewidth=3,\n",
    "    label='history',\n",
    "    c='#f08600')\n",
    "ax2.spines['top'].set_visible(False)\n",
    "ax2.spines['bottom'].set_visible(False)\n",
    "ax2.spines['left'].set_visible(False)\n",
    "ax2.spines['right'].set_visible(False)\n",
    "plt.ylim((a, b))\n",
    "plt.axis('off')\n",
    "\n",
    "#fig.savefig()"
   ]
  },
  {
   "cell_type": "code",
   "execution_count": 99,
   "metadata": {
    "code_folding": [
     13,
     31
    ],
    "collapsed": true
   },
   "outputs": [
    {
     "data": {
      "text/plain": [
       "\"plt.table(cellText=table_vals, colWidths=[0.1]*5,\\n         rowLabels=row_labels, colLabels=col_labels,\\n         rowColours=row_colors, colColours=row_colors,\\n         loc='top')\""
      ]
     },
     "execution_count": 99,
     "metadata": {},
     "output_type": "execute_result"
    },
    {
     "data": {
      "image/png": "[encoded data removed]",
      "text/plain": [
       "<matplotlib.figure.Figure at 0x251a02d5e80>"
      ]
     },
     "metadata": {},
     "output_type": "display_data"
    }
   ],
   "source": [
    "fig = plt.figure()\n",
    "fig.set_size_inches(13, 18)\n",
    "\n",
    "ax = fig.add_subplot(211) \n",
    "ax.plot(range(len_now),now['close'], linewidth=3, label='current', c='#007ac6')\n",
    "plt.ylim((mid-hist['width']/2-70,mid+hist['width']/2+70))\n",
    "plt.grid(color = '#007ac6',alpha=0.6, axis = 'y')  \n",
    "ax.spines['top'].set_visible(False) \n",
    "ax.spines['bottom'].set_visible(False)\n",
    "ax.spines['left'].set_visible(False) \n",
    "ax.spines['right'].set_visible(False) \n",
    "\n",
    "ax2 = ax.twinx()\n",
    "for i in index_max_corr:\n",
    "    history=t[i:i+len_now+forward_length]\n",
    "    ax2.plot(range(len_now+forward_length), history, linewidth=3, label='history', c='#f08600')\n",
    "\n",
    "ax2.spines['top'].set_visible(False) \n",
    "ax2.spines['bottom'].set_visible(False)\n",
    "ax2.spines['left'].set_visible(False) \n",
    "ax2.spines['right'].set_visible(False) \n",
    "\n",
    "col_labels = ['5天','概率','20天','概率']\n",
    "row_labels = ['row1','row2']\n",
    "table_vals = [[11,12],[21,22]]\n",
    "row_colors = ['red','gold']\n",
    "#bx = fig.add_subplot(212) \n",
    "'''plt.table(cellText=table_vals, colWidths=[0.1]*5,\n",
    "         rowLabels=row_labels, colLabels=col_labels,\n",
    "         rowColours=row_colors, colColours=row_colors,\n",
    "         loc='top')'''\n"
   ]
  },
  {
   "cell_type": "markdown",
   "metadata": {},
   "source": [
    "## 输出概率表格"
   ]
  },
  {
   "cell_type": "code",
   "execution_count": 217,
   "metadata": {},
   "outputs": [
    {
     "data": {
      "text/plain": [
       "0.4166666666666667"
      ]
     },
     "execution_count": 217,
     "metadata": {},
     "output_type": "execute_result"
    }
   ],
   "source": [
    "prob_up"
   ]
  },
  {
   "cell_type": "code",
   "execution_count": 282,
   "metadata": {},
   "outputs": [],
   "source": [
    "import openpyxl\n",
    "from openpyxl import Workbook\n",
    "from openpyxl.styles import PatternFill, Font, Border, numbers, Side, Alignment\n",
    "from openpyxl.drawing.image import Image"
   ]
  },
  {
   "cell_type": "code",
   "execution_count": 311,
   "metadata": {
    "code_folding": [
     11,
     15,
     19,
     23,
     27,
     31,
     35,
     39,
     43
    ]
   },
   "outputs": [],
   "source": [
    "index_symbol = '000001.SH'\n",
    "font_col = Font(name='dengxian', size=20, bold=True, color='FFFFFFFF')\n",
    "font_panzheng = Font(name='dengxian', size=19, bold=True, color='FFF08600')\n",
    "font_prob = Font(name='dengxian', size=19, bold=False, color='FF007AC6')\n",
    "\n",
    "fill_col = PatternFill(fill_type='solid', start_color='FF0070C6', end_color='FF0070C6')\n",
    "fill_row = PatternFill(fill_type='solid', start_color='FFE4F3FC', end_color='FFE4F3FC')\n",
    "fill_prob = PatternFill(fill_type='solid', start_color='FFF7F7F7', end_color='FFF7F7F7')\n",
    "\n",
    "format_percent = numbers.BUILTIN_FORMATS[9]\n",
    "\n",
    "border_corner1 = Border(left=Side(border_style='thick',color='FF999999'),\n",
    "                        right=Side(border_style='thin',color='FFFFFFFF'), \n",
    "                        top=Side(border_style='thick',color='FF999999'),\n",
    "                        bottom=Side(border_style='thin',color='FFFFFFFF'))\n",
    "border_corner2 = Border(left=Side(border_style='thin',color='FFFFFFFF'),\n",
    "                        right=Side(border_style='thick',color='FF999999'), \n",
    "                        top=Side(border_style='thick',color='FF999999'),\n",
    "                        bottom=Side(border_style='thin',color='FFFFFFFF'))\n",
    "border_corner3 = Border(left=Side(border_style='thin',color='FFFFFFFF'),\n",
    "                        right=Side(border_style='thick',color='FF999999'), \n",
    "                        top=Side(border_style='thin',color='FFFFFFFF'),\n",
    "                        bottom=Side(border_style='thick',color='FF999999'))\n",
    "border_corner4 = Border(left=Side(border_style='thick',color='FF999999'),\n",
    "                        right=Side(border_style='thin',color='FFFFFFFF'), \n",
    "                        top=Side(border_style='thin',color='FFFFFFFF'),\n",
    "                        bottom=Side(border_style='thick',color='FF999999'))\n",
    "border_up = Border(left=Side(border_style='thin',color='FFFFFFFF'),\n",
    "                        right=Side(border_style='thin',color='FFFFFFFF'), \n",
    "                        top=Side(border_style='thick',color='FF999999'),\n",
    "                        bottom=Side(border_style='thin',color='FFFFFFFF'))\n",
    "border_left = Border(left=Side(border_style='thick',color='FF999999'),\n",
    "                        right=Side(border_style='thin',color='FFFFFFFF'), \n",
    "                        top=Side(border_style='thin',color='FFFFFFFF'),\n",
    "                        bottom=Side(border_style='thin',color='FFFFFFFF'))\n",
    "border_right = Border(left=Side(border_style='thin',color='FFFFFFFF'),\n",
    "                        right=Side(border_style='thick',color='FF999999'), \n",
    "                        top=Side(border_style='thin',color='FFFFFFFF'),\n",
    "                        bottom=Side(border_style='thin',color='FFFFFFFF'))\n",
    "border_down = Border(left=Side(border_style='thin',color='FFFFFFFF'),\n",
    "                        right=Side(border_style='thin',color='FFFFFFFF'), \n",
    "                        top=Side(border_style='thin',color='FFFFFFFF'),\n",
    "                        bottom=Side(border_style='thick',color='FF999999'))\n",
    "border_inside = Border(left=Side(border_style='thin',color='FFFFFFFF'),\n",
    "                        right=Side(border_style='thin',color='FFFFFFFF'), \n",
    "                        top=Side(border_style='thin',color='FFFFFFFF'),\n",
    "                        bottom=Side(border_style='thin',color='FFFFFFFF'))\n",
    "alignment=Alignment(horizontal='center',vertical='center',text_rotation=0,wrap_text=False,shrink_to_fit=False,indent=0)"
   ]
  },
  {
   "cell_type": "code",
   "execution_count": 332,
   "metadata": {},
   "outputs": [],
   "source": [
    "wb = Workbook()\n",
    "ws = wb.active\n",
    "\n",
    "prob_up_5, prob_down_5 = cal_prob(0)\n",
    "prob_up_20, prob_down_20 = cal_prob(1)\n",
    "\n",
    "ws.append(['5天','概率', '20天', '概率'])\n",
    "ws.append(['', prob_up_5, '', prob_up_20])\n",
    "ws.append(['盘整', 0, '盘整', 0])\n",
    "ws.append(['', prob_down_5, '', prob_down_20])\n",
    "\n",
    "up, up2 = Image(r'E:\\\\up.png'), Image(r'E:\\\\up.png')\n",
    "down, down2 = Image(r'E:\\\\down.png'), Image(r'E:\\\\down.png')\n",
    "ws.add_image(up, 'A2')\n",
    "ws.add_image(up2, 'C2')\n",
    "ws.add_image(down, 'A4')\n",
    "ws.add_image(down2, 'C4')"
   ]
  },
  {
   "cell_type": "code",
   "execution_count": 333,
   "metadata": {},
   "outputs": [],
   "source": [
    "for c in ['A','B','C','D']:\n",
    "    ws.column_dimensions[c].width = 20\n",
    "for r in range(1,5):\n",
    "    ws.row_dimensions[r].height = 35"
   ]
  },
  {
   "cell_type": "code",
   "execution_count": 334,
   "metadata": {},
   "outputs": [],
   "source": [
    "for row in range(1,5):\n",
    "    for col in range(4):\n",
    "        ws[row][col].border = border_inside\n",
    "ws[1][0].border, ws[1][3].border, ws[4][3].border, ws[4][0].border = border_corner1, border_corner2, border_corner3, border_corner4\n",
    "ws[1][1].border, ws[1][2].border = border_up, border_up\n",
    "ws[4][1].border, ws[4][2].border = border_down, border_down\n",
    "ws[2][0].border, ws[3][0].border = border_left, border_left\n",
    "ws[2][3].border, ws[3][3].border = border_right, border_right\n",
    "\n",
    "for row in range(1,5):\n",
    "    for col in [0,2]:\n",
    "        ws[row][col].fill = fill_row\n",
    "        ws[row][col].font = font_col\n",
    "        ws[row][col].alignment = alignment\n",
    "    for col in [1,3]:\n",
    "        ws[row][col].fill = fill_prob\n",
    "        ws[row][col].font = font_prob\n",
    "        ws[row][col].number_format = format_percent\n",
    "        ws[row][col].alignment = alignment\n",
    "for col in range(4):\n",
    "    ws[1][col].fill = fill_col\n",
    "    ws[1][col].font = font_col\n",
    "ws[3][0].font, ws[3][2].font = font_panzheng, font_panzheng"
   ]
  },
  {
   "cell_type": "code",
   "execution_count": 335,
   "metadata": {},
   "outputs": [],
   "source": [
    "wb.save(\"E:\\\\RH\\\\\"+index_symbol+\"_Probability.xlsx\")"
   ]
  },
  {
   "cell_type": "code",
   "execution_count": null,
   "metadata": {},
   "outputs": [],
   "source": [
    "openpyxl.drawing.shapes.PresetGeometry2D(prst=upArrow, avLst=None)"
   ]
  },
  {
   "cell_type": "code",
   "execution_count": null,
   "metadata": {},
   "outputs": [],
   "source": []
  }
 ],
 "metadata": {
  "kernelspec": {
   "display_name": "Python 3",
   "language": "python",
   "name": "python3"
  },
  "varInspector": {
   "cols": {
    "lenName": 16,
    "lenType": 16,
    "lenVar": 40
   },
   "kernels_config": {
    "python": {
     "delete_cmd_postfix": "",
     "delete_cmd_prefix": "del ",
     "library": "var_list.py",
     "varRefreshCmd": "print(var_dic_list())"
    },
    "r": {
     "delete_cmd_postfix": ") ",
     "delete_cmd_prefix": "rm(",
     "library": "var_list.r",
     "varRefreshCmd": "cat(var_dic_list()) "
    }
   },
   "oldHeight": 431.181818,
   "position": {
    "height": "40px",
    "left": "1186.44px",
    "right": "20px",
    "top": "119.98px",
    "width": "552px"
   },
   "types_to_exclude": [
    "module",
    "function",
    "builtin_function_or_method",
    "instance",
    "_Feature"
   ],
   "varInspector_section_display": "none",
   "window_display": false
  }
 },
 "nbformat": 4,
 "nbformat_minor": 2
}
