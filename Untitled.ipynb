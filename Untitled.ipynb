{
 "cells": [
  {
   "cell_type": "code",
   "execution_count": 1,
   "metadata": {},
   "outputs": [],
   "source": [
    "import summary4 as s\n",
    "import pandas as pd\n",
    "import numpy as np"
   ]
  },
  {
   "cell_type": "code",
   "execution_count": 2,
   "metadata": {
    "scrolled": true
   },
   "outputs": [
    {
     "name": "stdout",
     "output_type": "stream",
     "text": [
      "正在转换数据类型 价格\n",
      "正在转换数据类型 Shares/Ctrts/Units - Profit/Loss\n",
      "正在转换数据类型 Net Profit - Cum Net Profit\n",
      "正在转换数据类型 Run-up/Drawdown\n",
      "正在初始化...\n",
      "初始化完成!\n",
      "Signal name          Profit(￥)\t\tVolume\tP/V\n",
      "[ B-AM1 ]            15.0 \t\t 170.0 \t 0.088\n",
      "[ B-AM2 ]            14.1 \t\t 23.0 \t 0.613\n",
      "[ B-AM3 ]            -72.3 \t\t 80.0 \t -0.904\n",
      "[ B-AM4 ]            -29.0 \t\t 39.0 \t -0.744\n",
      "[ C-20 Buy#1 ]       135.3 \t\t 94.0 \t 1.439\n",
      "[ C-20 Buy#2 ]       396.1 \t\t 271.0 \t 1.462\n",
      "[ C-20 Short#2 ]     266.3 \t\t 204.0 \t 1.305\n",
      "[ C-20 short#1 ]     137.0 \t\t 89.0 \t 1.539\n",
      "[ ST-AM1 ]           -38.2 \t\t 158.0 \t -0.242\n",
      "Finished Successfully in 16.582 seconds.\n",
      "正在输出至excel文件...\n",
      "已完成excel输出 文件路径 E:\\RH\\excel\\I2015-2018_uncondition. [OUTPUT].xlsx\n"
     ]
    }
   ],
   "source": [
    "#s.read_files(r\"E:\\RH\\excel\\I2015-2018.xlsx\")\n",
    "#s.start()\n",
    "#s.output_to_excel()\n",
    "'''s.read_files(r\"E:\\RH\\excel\\I2015-2018-3.xlsx\")\n",
    "s.start()\n",
    "s.output_to_excel()'''\n",
    "s.read_files(r\"E:\\RH\\excel\\I2015-2018_uncondition.xlsx\")\n",
    "s.start()\n",
    "s.output_to_excel()"
   ]
  },
  {
   "cell_type": "code",
   "execution_count": 2,
   "metadata": {
    "collapsed": true
   },
   "outputs": [
    {
     "name": "stderr",
     "output_type": "stream",
     "text": [
      "c:\\users\\70242\\appdata\\local\\programs\\python\\python36\\lib\\site-packages\\openpyxl\\reader\\worksheet.py:319: UserWarning: Unknown extension is not supported and will be removed\n",
      "  warn(msg)\n",
      "c:\\users\\70242\\appdata\\local\\programs\\python\\python36\\lib\\site-packages\\openpyxl\\reader\\worksheet.py:319: UserWarning: Conditional Formatting extension is not supported and will be removed\n",
      "  warn(msg)\n"
     ]
    },
    {
     "name": "stdout",
     "output_type": "stream",
     "text": [
      "正在转换数据类型 价格\n",
      "正在转换数据类型 Shares/Ctrts/Units - Profit/Loss\n",
      "正在转换数据类型 Net Profit - Cum Net Profit\n",
      "正在转换数据类型 Run-up/Drawdown\n"
     ]
    }
   ],
   "source": [
    "s.read_files(r\"E:\\RH\\excel\\500.xlsx\")"
   ]
  },
  {
   "cell_type": "code",
   "execution_count": 3,
   "metadata": {
    "collapsed": true
   },
   "outputs": [
    {
     "name": "stdout",
     "output_type": "stream",
     "text": [
      "正在初始化...\n",
      "初始化完成!\n",
      "Signal name          Profit(￥)\t\tVolume\tP/V\n",
      "[ AMAB1-2 ]          2605.66 \t\t 202.0 \t 12.899\n",
      "[ AMAB2-1 ]          279.47 \t\t 34.0 \t 8.22\n",
      "[ ATRB1-2 ]          1098.02 \t\t 64.0 \t 17.157\n",
      "[ ATRB2-2 ]          204.66 \t\t 78.0 \t 2.624\n",
      "[ ATRB3-1 ]          29.34 \t\t 2.0 \t 14.67\n",
      "Finished Successfully in 3.849 seconds.\n"
     ]
    }
   ],
   "source": [
    "s.start()"
   ]
  },
  {
   "cell_type": "code",
   "execution_count": 4,
   "metadata": {
    "collapsed": true
   },
   "outputs": [
    {
     "name": "stdout",
     "output_type": "stream",
     "text": [
      "正在输出至excel文件...\n"
     ]
    },
    {
     "ename": "ValueError",
     "evalue": "Cannot add integral value to Timestamp without freq.",
     "output_type": "error",
     "traceback": [
      "\u001b[1;31m---------------------------------------------------------------------------\u001b[0m",
      "\u001b[1;31mValueError\u001b[0m                                Traceback (most recent call last)",
      "\u001b[1;32m<ipython-input-4-6627930b10a9>\u001b[0m in \u001b[0;36m<module>\u001b[1;34m()\u001b[0m\n\u001b[1;32m----> 1\u001b[1;33m \u001b[0ms\u001b[0m\u001b[1;33m.\u001b[0m\u001b[0moutput_to_excel\u001b[0m\u001b[1;33m(\u001b[0m\u001b[1;33m)\u001b[0m\u001b[1;33m\u001b[0m\u001b[0m\n\u001b[0m",
      "\u001b[1;32m~\\Documents\\Python\\RH\\summary4.py\u001b[0m in \u001b[0;36moutput_to_excel\u001b[1;34m()\u001b[0m\n\u001b[0;32m    243\u001b[0m         \u001b[0mw\u001b[0m\u001b[1;33m=\u001b[0m\u001b[1;33m[\u001b[0m\u001b[1;33m]\u001b[0m\u001b[1;33m;\u001b[0m\u001b[0mwc\u001b[0m\u001b[1;33m=\u001b[0m\u001b[1;33m[\u001b[0m\u001b[1;33m]\u001b[0m\u001b[1;33m;\u001b[0m\u001b[0ml\u001b[0m\u001b[1;33m=\u001b[0m\u001b[1;33m[\u001b[0m\u001b[1;33m]\u001b[0m\u001b[1;33m;\u001b[0m\u001b[0mlc\u001b[0m\u001b[1;33m=\u001b[0m\u001b[1;33m[\u001b[0m\u001b[1;33m]\u001b[0m\u001b[1;33m\u001b[0m\u001b[0m\n\u001b[0;32m    244\u001b[0m         \u001b[1;32mfor\u001b[0m \u001b[0mitem\u001b[0m \u001b[1;32min\u001b[0m \u001b[1;33m(\u001b[0m\u001b[0msignal_class_list\u001b[0m\u001b[1;33m[\u001b[0m\u001b[0mi\u001b[0m\u001b[1;33m]\u001b[0m\u001b[1;33m.\u001b[0m\u001b[0mwin\u001b[0m\u001b[1;33m[\u001b[0m\u001b[0mii\u001b[0m\u001b[1;33m]\u001b[0m \u001b[1;32mfor\u001b[0m \u001b[0mii\u001b[0m \u001b[1;32min\u001b[0m \u001b[0msignal_class_list\u001b[0m\u001b[1;33m[\u001b[0m\u001b[0mi\u001b[0m\u001b[1;33m]\u001b[0m\u001b[1;33m.\u001b[0m\u001b[0mwin\u001b[0m\u001b[1;33m.\u001b[0m\u001b[0mkeys\u001b[0m\u001b[1;33m(\u001b[0m\u001b[1;33m)\u001b[0m\u001b[1;33m)\u001b[0m\u001b[1;33m:\u001b[0m\u001b[1;33m\u001b[0m\u001b[0m\n\u001b[1;32m--> 245\u001b[1;33m             \u001b[0mw\u001b[0m\u001b[1;33m.\u001b[0m\u001b[0mappend\u001b[0m\u001b[1;33m(\u001b[0m\u001b[0msum\u001b[0m\u001b[1;33m(\u001b[0m\u001b[0mitem\u001b[0m\u001b[1;33m)\u001b[0m\u001b[1;33m)\u001b[0m\u001b[1;33m\u001b[0m\u001b[0m\n\u001b[0m\u001b[0;32m    246\u001b[0m             \u001b[0mwc\u001b[0m\u001b[1;33m.\u001b[0m\u001b[0mappend\u001b[0m\u001b[1;33m(\u001b[0m\u001b[0mlen\u001b[0m\u001b[1;33m(\u001b[0m\u001b[0mitem\u001b[0m\u001b[1;33m)\u001b[0m\u001b[1;33m)\u001b[0m\u001b[1;33m\u001b[0m\u001b[0m\n\u001b[0;32m    247\u001b[0m         \u001b[1;32mfor\u001b[0m \u001b[0mitem\u001b[0m \u001b[1;32min\u001b[0m \u001b[1;33m(\u001b[0m\u001b[0msignal_class_list\u001b[0m\u001b[1;33m[\u001b[0m\u001b[0mi\u001b[0m\u001b[1;33m]\u001b[0m\u001b[1;33m.\u001b[0m\u001b[0mloss\u001b[0m\u001b[1;33m[\u001b[0m\u001b[0mii\u001b[0m\u001b[1;33m]\u001b[0m \u001b[1;32mfor\u001b[0m \u001b[0mii\u001b[0m \u001b[1;32min\u001b[0m \u001b[0msignal_class_list\u001b[0m\u001b[1;33m[\u001b[0m\u001b[0mi\u001b[0m\u001b[1;33m]\u001b[0m\u001b[1;33m.\u001b[0m\u001b[0mloss\u001b[0m\u001b[1;33m.\u001b[0m\u001b[0mkeys\u001b[0m\u001b[1;33m(\u001b[0m\u001b[1;33m)\u001b[0m\u001b[1;33m)\u001b[0m\u001b[1;33m:\u001b[0m\u001b[1;33m\u001b[0m\u001b[0m\n",
      "\u001b[1;32mpandas\\_libs\\tslib.pyx\u001b[0m in \u001b[0;36mpandas._libs.tslib.Timestamp.__radd__\u001b[1;34m()\u001b[0m\n",
      "\u001b[1;32mpandas\\_libs\\tslib.pyx\u001b[0m in \u001b[0;36mpandas._libs.tslib._Timestamp.__add__\u001b[1;34m()\u001b[0m\n",
      "\u001b[1;31mValueError\u001b[0m: Cannot add integral value to Timestamp without freq."
     ]
    }
   ],
   "source": [
    "s.output_to_excel()"
   ]
  },
  {
   "cell_type": "code",
   "execution_count": 10,
   "metadata": {
    "scrolled": true
   },
   "outputs": [
    {
     "name": "stdout",
     "output_type": "stream",
     "text": [
      "{Timestamp('2016-04-28 09:30:00'): 23.3, Timestamp('2016-05-10 13:45:00'): 3.3, Timestamp('2016-05-13 14:15:00'): 13.8, Timestamp('2016-05-23 15:00:00'): 12.3, Timestamp('2016-06-15 09:15:00'): 5.3, Timestamp('2016-07-18 23:30:00'): 12.8, Timestamp('2016-07-20 09:15:00'): 0.8, Timestamp('2016-08-04 21:45:00'): 2.3, Timestamp('2016-09-01 11:30:00'): 3.8, Timestamp('2016-09-08 10:15:00'): 7.8, Timestamp('2016-09-13 09:30:00'): 2.3, Timestamp('2016-09-14 11:30:00'): 1.3, Timestamp('2016-11-03 09:15:00'): 0.8, Timestamp('2016-11-30 21:15:00'): 26.4, Timestamp('2016-12-19 13:45:00'): 2.9, Timestamp('2016-12-22 23:15:00'): 6.8, Timestamp('2017-03-27 21:15:00'): 2.9, Timestamp('2017-04-07 23:15:00'): 7.8, Timestamp('2017-04-13 09:30:00'): 8.3, Timestamp('2017-04-17 21:45:00'): 5.8, Timestamp('2017-04-19 14:15:00'): 7.8, Timestamp('2017-05-11 14:30:00'): 6.3, Timestamp('2017-06-01 09:30:00'): 10.3, Timestamp('2017-07-21 13:45:00'): 4.8, Timestamp('2017-08-14 09:15:00'): 6.3, Timestamp('2017-08-15 11:30:00'): 1.3, Timestamp('2017-08-28 13:45:00'): 5.8, Timestamp('2017-08-30 14:00:00'): 6.3, Timestamp('2017-09-07 23:15:00'): 6.3, Timestamp('2017-09-11 10:15:00'): 3.8, Timestamp('2017-09-15 09:15:00'): 7.3, Timestamp('2017-09-20 11:30:00'): 0.3, Timestamp('2017-09-25 13:45:00'): 19.8, Timestamp('2017-09-28 22:30:00'): 8.3, Timestamp('2017-10-12 14:30:00'): 2.3, Timestamp('2017-10-19 14:00:00'): 3.4, Timestamp('2017-10-31 09:30:00'): 16.3, Timestamp('2017-11-15 13:45:00'): 9.3, Timestamp('2017-11-28 14:30:00'): 0.8, Timestamp('2018-01-24 09:30:00'): 12.8, Timestamp('2018-01-29 22:30:00'): 3.3, Timestamp('2018-01-31 15:00:00'): 1.3, Timestamp('2018-03-02 14:00:00'): 2.3, Timestamp('2018-03-06 09:15:00'): 11.8, Timestamp('2018-03-08 09:45:00'): 0.4, Timestamp('2018-03-12 09:15:00'): 16.8, Timestamp('2018-03-23 23:15:00'): 18.3}\n",
      "[23.3  3.3 13.8 12.3  5.3 12.8  0.8  2.3  3.8  7.8  2.3  1.3  0.8 26.4\n",
      "  2.9  6.8  2.9  7.8  8.3  5.8  7.8  6.3 10.3  4.8  6.3  1.3  5.8  6.3\n",
      "  6.3  3.8  7.3  0.3 19.8  8.3  2.3  3.4 16.3  9.3  0.8 12.8  3.3  1.3\n",
      "  2.3 11.8  0.4 16.8 18.3]\t6.177863928265268\n",
      "{Timestamp('2016-04-05 14:30:00'): -7.7, Timestamp('2016-04-06 21:30:00'): -8.7, Timestamp('2016-04-08 21:15:00'): -3.7, Timestamp('2016-05-24 14:30:00'): -4.2, Timestamp('2016-05-26 21:15:00'): -2.2, Timestamp('2016-05-27 11:30:00'): -3.7, Timestamp('2016-06-01 10:15:00'): -4.2, Timestamp('2016-06-02 23:15:00'): -2.7, Timestamp('2016-07-01 21:15:00'): -10.7, Timestamp('2016-07-08 14:45:00'): -6.2, Timestamp('2016-07-20 09:15:00'): -4.7, Timestamp('2016-07-20 22:00:00'): -6.2, Timestamp('2016-08-04 21:45:00'): -3.7, Timestamp('2016-09-13 09:30:00'): -4.2, Timestamp('2016-09-14 11:30:00'): -0.7, Timestamp('2016-10-19 22:30:00'): -5.7, Timestamp('2016-10-21 14:00:00'): -3.7, Timestamp('2016-11-03 09:15:00'): -2.2, Timestamp('2016-11-21 09:45:00'): -3.7, Timestamp('2016-12-20 15:00:00'): -15.7, Timestamp('2017-03-23 09:30:00'): -38.6, Timestamp('2017-04-10 22:30:00'): -9.2, Timestamp('2017-04-17 21:45:00'): -4.7, Timestamp('2017-04-27 14:15:00'): -5.2, Timestamp('2017-05-09 09:15:00'): -9.2, Timestamp('2017-05-12 14:30:00'): -6.7, Timestamp('2017-05-15 09:15:00'): -8.6, Timestamp('2017-05-26 11:00:00'): -3.7, Timestamp('2017-06-09 09:30:00'): -5.2, Timestamp('2017-06-09 21:30:00'): -5.2, Timestamp('2017-07-06 14:30:00'): -8.1, Timestamp('2017-07-24 14:00:00'): -9.1, Timestamp('2017-08-15 11:30:00'): -2.2, Timestamp('2017-08-24 22:45:00'): -11.7, Timestamp('2017-08-30 14:00:00'): -2.2, Timestamp('2017-09-07 23:15:00'): -2.7, Timestamp('2017-09-11 10:15:00'): -1.2, Timestamp('2017-09-14 10:45:00'): -3.1, Timestamp('2017-09-18 09:45:00'): -7.7, Timestamp('2017-09-26 23:30:00'): -5.2, Timestamp('2017-10-10 09:15:00'): -3.7, Timestamp('2017-10-19 14:00:00'): -2.7, Timestamp('2017-10-26 13:45:00'): -3.7, Timestamp('2017-11-10 09:15:00'): -6.7, Timestamp('2017-11-13 11:00:00'): -5.7, Timestamp('2017-11-15 13:45:00'): -1.7, Timestamp('2017-12-11 23:15:00'): -6.7, Timestamp('2017-12-13 10:45:00'): -7.7, Timestamp('2017-12-15 09:15:00'): -4.2, Timestamp('2018-01-05 23:30:00'): -3.2, Timestamp('2018-01-17 09:15:00'): -7.2, Timestamp('2018-01-31 15:00:00'): -4.2, Timestamp('2018-02-12 09:15:00'): -5.2, Timestamp('2018-03-02 14:00:00'): -3.2, Timestamp('2018-03-12 22:45:00'): -6.2, Timestamp('2018-03-28 10:15:00'): -6.2}\n",
      "[ -7.7  -8.7  -3.7  -4.2  -2.2  -3.7  -4.2  -2.7 -10.7  -6.2  -4.7  -6.2\n",
      "  -3.7  -4.2  -0.7  -5.7  -3.7  -2.2  -3.7 -15.7 -38.6  -9.2  -4.7  -5.2\n",
      "  -9.2  -6.7  -8.6  -3.7  -5.2  -5.2  -8.1  -9.1  -2.2 -11.7  -2.2  -2.7\n",
      "  -1.2  -3.1  -7.7  -5.2  -3.7  -2.7  -3.7  -6.7  -5.7  -1.7  -6.7  -7.7\n",
      "  -4.2  -3.2  -7.2  -4.2  -5.2  -3.2  -6.2  -6.2]\t5.211392298980912\n",
      "{Timestamp('2016-11-30 23:00:00'): -9.0, Timestamp('2016-12-21 14:00:00'): -11.3, Timestamp('2016-12-26 11:30:00'): -15.6, Timestamp('2016-12-28 22:45:00'): -10.6, Timestamp('2017-03-28 21:15:00'): -9.8, Timestamp('2017-04-14 21:15:00'): -10.0, Timestamp('2017-08-16 21:15:00'): -7.0, Timestamp('2017-10-10 14:30:00'): -6.8, Timestamp('2017-11-01 23:00:00'): -6.8, Timestamp('2018-01-17 15:00:00'): -4.4, Timestamp('2018-02-01 21:15:00'): -4.9, Timestamp('2018-03-29 09:15:00'): -5.4, Timestamp('2018-03-30 13:45:00'): -6.7}\n",
      "[ -9.  -11.3 -15.6 -10.6  -9.8 -10.   -7.   -6.8  -6.8  -4.4  -4.9  -5.4\n",
      "  -6.7]\t3.0016366344391354\n",
      "{Timestamp('2017-06-01 14:00:00'): -3.1, Timestamp('2017-10-10 11:00:00'): -1.6}\n",
      "[-3.1 -1.6]\t0.75\n",
      "dict_keys(['C-10 SX'])\n"
     ]
    },
    {
     "data": {
      "text/plain": [
       "dict_keys(['C-10 SX', '2N Stop SX', 'AMB1'])"
      ]
     },
     "execution_count": 10,
     "metadata": {},
     "output_type": "execute_result"
    }
   ],
   "source": [
    "i=6\n",
    "for item in (s.signal_class_list[i].win[ii] for ii in s.signal_class_list[i].win.keys()):\n",
    "    print(item)\n",
    "    print(np.asarray(list(item.values()),dtype=np.float64),end='\\t')\n",
    "    print(np.std(list(item.values()),dtype=np.float64))    \n",
    "for item in (s.signal_class_list[i].loss[ii] for ii in s.signal_class_list[i].loss.keys()):\n",
    "    print(item)\n",
    "    print(np.asarray(list(item.values()),dtype=np.float64),end='\\t')\n",
    "    print(np.std(list(item.values()),dtype=np.float64))   \n",
    "print(s.signal_class_list[i].win.keys())    \n",
    "s.signal_class_list[i].loss.keys()"
   ]
  },
  {
   "cell_type": "code",
   "execution_count": 17,
   "metadata": {},
   "outputs": [
    {
     "data": {
      "text/plain": [
       "{'2N Stop SX': {Timestamp('2016-11-30 23:00:00'): -9.0,\n",
       "  Timestamp('2016-12-21 14:00:00'): -11.3,\n",
       "  Timestamp('2016-12-26 11:30:00'): -15.6,\n",
       "  Timestamp('2016-12-28 22:45:00'): -10.6,\n",
       "  Timestamp('2017-03-28 21:15:00'): -9.8,\n",
       "  Timestamp('2017-04-14 21:15:00'): -10.0,\n",
       "  Timestamp('2017-08-16 21:15:00'): -7.0,\n",
       "  Timestamp('2017-10-10 14:30:00'): -6.8,\n",
       "  Timestamp('2017-11-01 23:00:00'): -6.8,\n",
       "  Timestamp('2018-01-17 15:00:00'): -4.4,\n",
       "  Timestamp('2018-02-01 21:15:00'): -4.9,\n",
       "  Timestamp('2018-03-29 09:15:00'): -5.4,\n",
       "  Timestamp('2018-03-30 13:45:00'): -6.7},\n",
       " 'AMB1': {Timestamp('2017-06-01 14:00:00'): -3.1,\n",
       "  Timestamp('2017-10-10 11:00:00'): -1.6},\n",
       " 'C-10 SX': {Timestamp('2016-04-05 14:30:00'): -7.7,\n",
       "  Timestamp('2016-04-06 21:30:00'): -8.7,\n",
       "  Timestamp('2016-04-08 21:15:00'): -3.7,\n",
       "  Timestamp('2016-05-24 14:30:00'): -4.2,\n",
       "  Timestamp('2016-05-26 21:15:00'): -2.2,\n",
       "  Timestamp('2016-05-27 11:30:00'): -3.7,\n",
       "  Timestamp('2016-06-01 10:15:00'): -4.2,\n",
       "  Timestamp('2016-06-02 23:15:00'): -2.7,\n",
       "  Timestamp('2016-07-01 21:15:00'): -10.7,\n",
       "  Timestamp('2016-07-08 14:45:00'): -6.2,\n",
       "  Timestamp('2016-07-20 09:15:00'): -4.7,\n",
       "  Timestamp('2016-07-20 22:00:00'): -6.2,\n",
       "  Timestamp('2016-08-04 21:45:00'): -3.7,\n",
       "  Timestamp('2016-09-13 09:30:00'): -4.2,\n",
       "  Timestamp('2016-09-14 11:30:00'): -0.7,\n",
       "  Timestamp('2016-10-19 22:30:00'): -5.7,\n",
       "  Timestamp('2016-10-21 14:00:00'): -3.7,\n",
       "  Timestamp('2016-11-03 09:15:00'): -2.2,\n",
       "  Timestamp('2016-11-21 09:45:00'): -3.7,\n",
       "  Timestamp('2016-12-20 15:00:00'): -15.7,\n",
       "  Timestamp('2017-03-23 09:30:00'): -38.6,\n",
       "  Timestamp('2017-04-10 22:30:00'): -9.2,\n",
       "  Timestamp('2017-04-17 21:45:00'): -4.7,\n",
       "  Timestamp('2017-04-27 14:15:00'): -5.2,\n",
       "  Timestamp('2017-05-09 09:15:00'): -9.2,\n",
       "  Timestamp('2017-05-12 14:30:00'): -6.7,\n",
       "  Timestamp('2017-05-15 09:15:00'): -8.6,\n",
       "  Timestamp('2017-05-26 11:00:00'): -3.7,\n",
       "  Timestamp('2017-06-09 09:30:00'): -5.2,\n",
       "  Timestamp('2017-06-09 21:30:00'): -5.2,\n",
       "  Timestamp('2017-07-06 14:30:00'): -8.1,\n",
       "  Timestamp('2017-07-24 14:00:00'): -9.1,\n",
       "  Timestamp('2017-08-15 11:30:00'): -2.2,\n",
       "  Timestamp('2017-08-24 22:45:00'): -11.7,\n",
       "  Timestamp('2017-08-30 14:00:00'): -2.2,\n",
       "  Timestamp('2017-09-07 23:15:00'): -2.7,\n",
       "  Timestamp('2017-09-11 10:15:00'): -1.2,\n",
       "  Timestamp('2017-09-14 10:45:00'): -3.1,\n",
       "  Timestamp('2017-09-18 09:45:00'): -7.7,\n",
       "  Timestamp('2017-09-26 23:30:00'): -5.2,\n",
       "  Timestamp('2017-10-10 09:15:00'): -3.7,\n",
       "  Timestamp('2017-10-19 14:00:00'): -2.7,\n",
       "  Timestamp('2017-10-26 13:45:00'): -3.7,\n",
       "  Timestamp('2017-11-10 09:15:00'): -6.7,\n",
       "  Timestamp('2017-11-13 11:00:00'): -5.7,\n",
       "  Timestamp('2017-11-15 13:45:00'): -1.7,\n",
       "  Timestamp('2017-12-11 23:15:00'): -6.7,\n",
       "  Timestamp('2017-12-13 10:45:00'): -7.7,\n",
       "  Timestamp('2017-12-15 09:15:00'): -4.2,\n",
       "  Timestamp('2018-01-05 23:30:00'): -3.2,\n",
       "  Timestamp('2018-01-17 09:15:00'): -7.2,\n",
       "  Timestamp('2018-01-31 15:00:00'): -4.2,\n",
       "  Timestamp('2018-02-12 09:15:00'): -5.2,\n",
       "  Timestamp('2018-03-02 14:00:00'): -3.2,\n",
       "  Timestamp('2018-03-12 22:45:00'): -6.2,\n",
       "  Timestamp('2018-03-28 10:15:00'): -6.2}}"
      ]
     },
     "execution_count": 17,
     "metadata": {},
     "output_type": "execute_result"
    }
   ],
   "source": [
    "s.signal_class_list[i].loss"
   ]
  },
  {
   "cell_type": "code",
   "execution_count": 15,
   "metadata": {},
   "outputs": [
    {
     "data": {
      "text/html": [
       "<div>\n",
       "<style scoped>\n",
       "    .dataframe tbody tr th:only-of-type {\n",
       "        vertical-align: middle;\n",
       "    }\n",
       "\n",
       "    .dataframe tbody tr th {\n",
       "        vertical-align: top;\n",
       "    }\n",
       "\n",
       "    .dataframe thead th {\n",
       "        text-align: right;\n",
       "    }\n",
       "</style>\n",
       "<table border=\"1\" class=\"dataframe\">\n",
       "  <thead>\n",
       "    <tr style=\"text-align: right;\">\n",
       "      <th></th>\n",
       "      <th></th>\n",
       "      <th>Profit</th>\n",
       "      <th>Volume</th>\n",
       "      <th>P/V</th>\n",
       "      <th>Win Count</th>\n",
       "      <th>Loss Count</th>\n",
       "      <th>Win Rate</th>\n",
       "      <th>Expected Revenue</th>\n",
       "    </tr>\n",
       "  </thead>\n",
       "  <tbody>\n",
       "    <tr>\n",
       "      <th rowspan=\"3\" valign=\"top\">AMAB2-1</th>\n",
       "      <th>AMAS3-1</th>\n",
       "      <td>282.33</td>\n",
       "      <td>20.0</td>\n",
       "      <td>14.116500</td>\n",
       "      <td>10</td>\n",
       "      <td>10.0</td>\n",
       "      <td>0.500000</td>\n",
       "      <td>141.165000</td>\n",
       "    </tr>\n",
       "    <tr>\n",
       "      <th>Stop2N1-1</th>\n",
       "      <td>1.01</td>\n",
       "      <td>1.0</td>\n",
       "      <td>1.010000</td>\n",
       "      <td>1</td>\n",
       "      <td>NaN</td>\n",
       "      <td>NaN</td>\n",
       "      <td>NaN</td>\n",
       "    </tr>\n",
       "    <tr>\n",
       "      <th>bu3</th>\n",
       "      <td>-3.87</td>\n",
       "      <td>13.0</td>\n",
       "      <td>-0.297692</td>\n",
       "      <td>8</td>\n",
       "      <td>5.0</td>\n",
       "      <td>0.615385</td>\n",
       "      <td>-1.091538</td>\n",
       "    </tr>\n",
       "  </tbody>\n",
       "</table>\n",
       "</div>"
      ],
      "text/plain": [
       "                   Profit  Volume        P/V  Win Count  Loss Count  Win Rate  \\\n",
       "AMAB2-1 AMAS3-1    282.33    20.0  14.116500         10        10.0  0.500000   \n",
       "        Stop2N1-1    1.01     1.0   1.010000          1         NaN       NaN   \n",
       "        bu3         -3.87    13.0  -0.297692          8         5.0  0.615385   \n",
       "\n",
       "                   Expected Revenue  \n",
       "AMAB2-1 AMAS3-1          141.165000  \n",
       "        Stop2N1-1               NaN  \n",
       "        bu3               -1.091538  "
      ]
     },
     "execution_count": 15,
     "metadata": {},
     "output_type": "execute_result"
    }
   ],
   "source": [
    "i=1\n",
    "v = s.signal_class_list[i].volume\n",
    "p = s.signal_class_list[i].profit\n",
    "w = s.signal_class_list[i].win\n",
    "l = s.signal_class_list[i].loss       \n",
    "wc = s.signal_class_list[i].win_count\n",
    "lc = s.signal_class_list[i].loss_count\n",
    "a = pd.DataFrame({'Profit': list(p.values())},\n",
    "                 index=pd.MultiIndex.from_product([[s.signal_class_list[i].name], p.keys()]))\n",
    "b = pd.DataFrame({'Volume': list(v.values())},\n",
    "                 index=pd.MultiIndex.from_product([[s.signal_class_list[i].name], v.keys()]))\n",
    "c = pd.DataFrame({'Win': list(w.values()),'Win Count': list(wc.values())},\n",
    "                 index=pd.MultiIndex.from_product([[s.signal_class_list[i].name], w.keys()]))\n",
    "d = pd.DataFrame({'Loss': list(l.values()),'Loss Count': list(lc.values())},\n",
    "                 index=pd.MultiIndex.from_product([[s.signal_class_list[i].name], l.keys()]))\n",
    "joint = a.join(b)\n",
    "joint['P/V'] = joint['Profit']/joint['Volume']\n",
    "\n",
    "joint = joint.join(c).join(d)\n",
    "joint['Win Rate'] = joint['Win Count'] / (joint['Win Count']+joint['Loss Count'])\n",
    "joint['Expected Revenue'] = joint['Win'] * joint['Win Rate'] + \\\n",
    "                            joint['Loss'] * (1-joint['Win Rate'])\n",
    "\n",
    "joint.drop(columns=['Win','Loss'])"
   ]
  },
  {
   "cell_type": "code",
   "execution_count": 13,
   "metadata": {},
   "outputs": [
    {
     "data": {
      "text/html": [
       "<div>\n",
       "<style scoped>\n",
       "    .dataframe tbody tr th:only-of-type {\n",
       "        vertical-align: middle;\n",
       "    }\n",
       "\n",
       "    .dataframe tbody tr th {\n",
       "        vertical-align: top;\n",
       "    }\n",
       "\n",
       "    .dataframe thead th {\n",
       "        text-align: right;\n",
       "    }\n",
       "</style>\n",
       "<table border=\"1\" class=\"dataframe\">\n",
       "  <thead>\n",
       "    <tr style=\"text-align: right;\">\n",
       "      <th></th>\n",
       "      <th></th>\n",
       "      <th>Loss</th>\n",
       "      <th>Loss Count</th>\n",
       "    </tr>\n",
       "  </thead>\n",
       "  <tbody>\n",
       "    <tr>\n",
       "      <th rowspan=\"2\" valign=\"top\">AMAB2-1</th>\n",
       "      <th>AMAS3-1</th>\n",
       "      <td>-145.28</td>\n",
       "      <td>10</td>\n",
       "    </tr>\n",
       "    <tr>\n",
       "      <th>bu3</th>\n",
       "      <td>-5.59</td>\n",
       "      <td>5</td>\n",
       "    </tr>\n",
       "  </tbody>\n",
       "</table>\n",
       "</div>"
      ],
      "text/plain": [
       "                   Loss  Loss Count\n",
       "AMAB2-1 AMAS3-1 -145.28          10\n",
       "        bu3       -5.59           5"
      ]
     },
     "execution_count": 13,
     "metadata": {},
     "output_type": "execute_result"
    }
   ],
   "source": [
    "d"
   ]
  },
  {
   "cell_type": "code",
   "execution_count": null,
   "metadata": {},
   "outputs": [],
   "source": []
  }
 ],
 "metadata": {
  "kernelspec": {
   "display_name": "Python 3",
   "language": "python",
   "name": "python3"
  },
  "language_info": {
   "codemirror_mode": {
    "name": "ipython",
    "version": 3
   },
   "file_extension": ".py",
   "mimetype": "text/x-python",
   "name": "python",
   "nbconvert_exporter": "python",
   "pygments_lexer": "ipython3",
   "version": "3.6.3"
  },
  "varInspector": {
   "cols": {
    "lenName": 16,
    "lenType": 16,
    "lenVar": 40
   },
   "kernels_config": {
    "python": {
     "delete_cmd_postfix": "",
     "delete_cmd_prefix": "del ",
     "library": "var_list.py",
     "varRefreshCmd": "print(var_dic_list())"
    },
    "r": {
     "delete_cmd_postfix": ") ",
     "delete_cmd_prefix": "rm(",
     "library": "var_list.r",
     "varRefreshCmd": "cat(var_dic_list()) "
    }
   },
   "types_to_exclude": [
    "module",
    "function",
    "builtin_function_or_method",
    "instance",
    "_Feature"
   ],
   "window_display": false
  }
 },
 "nbformat": 4,
 "nbformat_minor": 2
}
